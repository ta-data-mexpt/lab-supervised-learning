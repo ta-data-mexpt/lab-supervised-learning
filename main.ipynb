{
  "cells": [
    {
      "cell_type": "markdown",
      "metadata": {
        "id": "pnwWEPa99zmm"
      },
      "source": [
        "# Before your start:\n",
        "- Read the README.md file\n",
        "- Comment as much as you can and use the resources in the README.md file\n",
        "- Happy learning!"
      ]
    },
    {
      "cell_type": "code",
      "execution_count": null,
      "metadata": {
        "id": "saoqHdNN9zmq"
      },
      "outputs": [],
      "source": [
        "# Import your libraries:\n",
        "\n",
        "%matplotlib inline\n",
        "\n",
        "import numpy as np\n",
        "import pandas as pd"
      ]
    },
    {
      "cell_type": "markdown",
      "metadata": {
        "id": "WCxVVsGg9zmr"
      },
      "source": [
        "In this lab, we will explore a dataset that describes websites with different features and labels them either benign or malicious . We will use supervised learning algorithms to figure out what feature patterns malicious websites are likely to have and use our model to predict malicious websites.\n",
        "\n",
        "# Challenge 1 - Explore The Dataset\n",
        "\n",
        "Let's start by exploring the dataset. First load the data file:"
      ]
    },
    {
      "cell_type": "code",
      "execution_count": null,
      "metadata": {
        "colab": {
          "base_uri": "https://localhost:8080/"
        },
        "id": "dX3wvKXb9zms",
        "outputId": "2750855f-b3b8-4304-ee22-b4f8afcadd7e"
      },
      "outputs": [
        {
          "output_type": "stream",
          "name": "stdout",
          "text": [
            "Drive already mounted at /content/drive; to attempt to forcibly remount, call drive.mount(\"/content/drive\", force_remount=True).\n"
          ]
        }
      ],
      "source": [
        "from google.colab import drive\n",
        "drive.mount('/content/drive')\n"
      ]
    },
    {
      "cell_type": "code",
      "source": [
        "websites = pd.read_csv('/content/drive/MyDrive/Ironhack/Laboratorios/03 Módulo 3/lab-supervised-learning/website.csv')"
      ],
      "metadata": {
        "id": "HctNGcaP_Iag"
      },
      "execution_count": null,
      "outputs": []
    },
    {
      "cell_type": "markdown",
      "metadata": {
        "id": "GXic3vzE9zms"
      },
      "source": [
        "#### Explore the data from an bird's-eye view.\n",
        "\n",
        "You should already been very familiar with the procedures now so we won't provide the instructions step by step. Reflect on what you did in the previous labs and explore the dataset.\n",
        "\n",
        "Things you'll be looking for:\n",
        "\n",
        "* What the dataset looks like?\n",
        "* What are the data types?\n",
        "* Which columns contain the features of the websites?\n",
        "* Which column contains the feature we will predict? What is the code standing for benign vs malicious websites?\n",
        "* Do we need to transform any of the columns from categorical to ordinal values? If so what are these columns?\n",
        "\n",
        "Feel free to add additional cells for your explorations. Make sure to comment what you find out."
      ]
    },
    {
      "cell_type": "code",
      "execution_count": null,
      "metadata": {
        "colab": {
          "base_uri": "https://localhost:8080/"
        },
        "id": "on_RS2ll9zmt",
        "outputId": "75d3408f-604e-4c8f-833b-c3eb86da9bee"
      },
      "outputs": [
        {
          "output_type": "stream",
          "name": "stdout",
          "text": [
            "<class 'pandas.core.frame.DataFrame'>\n",
            "RangeIndex: 1781 entries, 0 to 1780\n",
            "Data columns (total 21 columns):\n",
            " #   Column                     Non-Null Count  Dtype  \n",
            "---  ------                     --------------  -----  \n",
            " 0   URL                        1781 non-null   object \n",
            " 1   URL_LENGTH                 1781 non-null   int64  \n",
            " 2   NUMBER_SPECIAL_CHARACTERS  1781 non-null   int64  \n",
            " 3   CHARSET                    1781 non-null   object \n",
            " 4   SERVER                     1780 non-null   object \n",
            " 5   CONTENT_LENGTH             969 non-null    float64\n",
            " 6   WHOIS_COUNTRY              1781 non-null   object \n",
            " 7   WHOIS_STATEPRO             1781 non-null   object \n",
            " 8   WHOIS_REGDATE              1781 non-null   object \n",
            " 9   WHOIS_UPDATED_DATE         1781 non-null   object \n",
            " 10  TCP_CONVERSATION_EXCHANGE  1781 non-null   int64  \n",
            " 11  DIST_REMOTE_TCP_PORT       1781 non-null   int64  \n",
            " 12  REMOTE_IPS                 1781 non-null   int64  \n",
            " 13  APP_BYTES                  1781 non-null   int64  \n",
            " 14  SOURCE_APP_PACKETS         1781 non-null   int64  \n",
            " 15  REMOTE_APP_PACKETS         1781 non-null   int64  \n",
            " 16  SOURCE_APP_BYTES           1781 non-null   int64  \n",
            " 17  REMOTE_APP_BYTES           1781 non-null   int64  \n",
            " 18  APP_PACKETS                1781 non-null   int64  \n",
            " 19  DNS_QUERY_TIMES            1780 non-null   float64\n",
            " 20  Type                       1781 non-null   int64  \n",
            "dtypes: float64(2), int64(12), object(7)\n",
            "memory usage: 292.3+ KB\n"
          ]
        }
      ],
      "source": [
        "# Your code here\n",
        "websites.columns\n",
        "websites.head(3)\n",
        "websites.shape\n",
        "websites.info()"
      ]
    },
    {
      "cell_type": "code",
      "source": [
        "# Your comment here\n",
        "# What the dataset looks like? There are 21 features, 1781 rows\n",
        "# What are the data types? objects, integers, floats\n",
        "# Which columns contain the features of the websites? URL URL_Lenght, server\n",
        "# Which column contains the feature we will predict? What is the code standing for benign vs malicious websites? 'Type'\n",
        "# Do we need to transform any of the columns from categorical to ordinal values? If so what are these columns?"
      ],
      "metadata": {
        "id": "vICjFGnUA2lD"
      },
      "execution_count": null,
      "outputs": []
    },
    {
      "cell_type": "code",
      "execution_count": null,
      "metadata": {
        "colab": {
          "base_uri": "https://localhost:8080/"
        },
        "id": "m30yWDbW9zmu",
        "outputId": "2dcc1a2b-018a-4488-cded-d3b98ca261d8"
      },
      "outputs": [
        {
          "output_type": "execute_result",
          "data": {
            "text/plain": [
              "URL                   object\n",
              "CHARSET               object\n",
              "SERVER                object\n",
              "WHOIS_COUNTRY         object\n",
              "WHOIS_STATEPRO        object\n",
              "WHOIS_REGDATE         object\n",
              "WHOIS_UPDATED_DATE    object\n",
              "dtype: object"
            ]
          },
          "metadata": {},
          "execution_count": 119
        }
      ],
      "source": [
        "websites.dtypes[websites.dtypes == 'object']\n",
        "# CHARSET, WHOIS_COUNTRY"
      ]
    },
    {
      "cell_type": "markdown",
      "metadata": {
        "id": "8eSTkwq79zmu"
      },
      "source": [
        "#### Next, evaluate if the columns in this dataset are strongly correlated.\n",
        "\n",
        "In the Mushroom supervised learning lab we did recently, we mentioned we are concerned if our dataset has strongly correlated columns because if it is the case we need to choose certain ML algorithms instead of others. We need to evaluate this for our dataset now.\n",
        "\n",
        "Luckily, most of the columns in this dataset are ordinal which makes things a lot easier for us. In the next cells below, evaluate the level of collinearity of the data.\n",
        "\n",
        "We provide some general directions for you to consult in order to complete this step:\n",
        "\n",
        "1. You will create a correlation matrix using the numeric columns in the dataset.\n",
        "\n",
        "1. Create a heatmap using `seaborn` to visualize which columns have high collinearity.\n",
        "\n",
        "1. Comment on which columns you might need to remove due to high collinearity."
      ]
    },
    {
      "cell_type": "code",
      "execution_count": null,
      "metadata": {
        "colab": {
          "base_uri": "https://localhost:8080/",
          "height": 657
        },
        "id": "4ApBHjhf9zmv",
        "outputId": "5fe5ed61-e529-48dd-e865-fdc50b511023"
      },
      "outputs": [
        {
          "output_type": "execute_result",
          "data": {
            "text/plain": [
              "<matplotlib.axes._subplots.AxesSubplot at 0x7f3dbfc16350>"
            ]
          },
          "metadata": {},
          "execution_count": 120
        },
        {
          "output_type": "display_data",
          "data": {
            "text/plain": [
              "<Figure size 864x576 with 2 Axes>"
            ],
            "image/png": "[encoded data removed]"
          },
          "metadata": {
            "needs_background": "light"
          }
        }
      ],
      "source": [
        "# Your code here\n",
        "import seaborn as sns\n",
        "import matplotlib.pyplot as plt\n",
        "websites\n",
        "data_ordinal = websites.select_dtypes(include=['int64','float64'])\n",
        "plt.figure(figsize=(12,8))\n",
        "sns.heatmap(data_ordinal.corr())"
      ]
    },
    {
      "cell_type": "code",
      "execution_count": null,
      "metadata": {
        "colab": {
          "base_uri": "https://localhost:8080/",
          "height": 512
        },
        "id": "ODNlTa199zmw",
        "outputId": "09a73f4a-14cc-425b-d88a-646454bdf001"
      },
      "outputs": [
        {
          "output_type": "stream",
          "name": "stderr",
          "text": [
            "/usr/local/lib/python3.7/dist-packages/ipykernel_launcher.py:8: DeprecationWarning: `np.bool` is a deprecated alias for the builtin `bool`. To silence this warning, use `bool` by itself. Doing this will not modify any behavior and is safe. If you specifically wanted the numpy scalar type, use `np.bool_` here.\n",
            "Deprecated in NumPy 1.20; for more details and guidance: https://numpy.org/devdocs/release/1.20.0-notes.html#deprecations\n",
            "  \n"
          ]
        },
        {
          "output_type": "execute_result",
          "data": {
            "text/plain": [
              "<matplotlib.axes._subplots.AxesSubplot at 0x7f3dbf38eb50>"
            ]
          },
          "metadata": {},
          "execution_count": 121
        },
        {
          "output_type": "display_data",
          "data": {
            "text/plain": [
              "<Figure size 432x288 with 2 Axes>"
            ],
            "image/png": "[encoded data removed]"
          },
          "metadata": {
            "needs_background": "light"
          }
        }
      ],
      "source": [
        "# Your comment here\n",
        "import numpy as np\n",
        "\n",
        "# Create correlation matrix\n",
        "corr_matrix = websites.corr().abs()\n",
        "\n",
        "# Select upper triangle of correlation matrix\n",
        "upper = corr_matrix.where(np.triu(np.ones(corr_matrix.shape), k=1).astype(np.bool))\n",
        "upper\n",
        "\n",
        "sns.heatmap(upper)"
      ]
    },
    {
      "cell_type": "markdown",
      "metadata": {
        "id": "uw7ITA8g9zmw"
      },
      "source": [
        "# Challenge 2 - Remove Column Collinearity.\n",
        "\n",
        "From the heatmap you created, you should have seen at least 3 columns that can be removed due to high collinearity. Remove these columns from the dataset.\n",
        "\n",
        "Note that you should remove as few columns as you can. You don't have to remove all the columns at once. But instead, try removing one column, then produce the heatmap again to determine if additional columns should be removed. As long as the dataset no longer contains columns that are correlated for over 90%, you can stop. Also, keep in mind when two columns have high collinearity, you only need to remove one of them but not both.\n",
        "\n",
        "In the cells below, remove as few columns as you can to eliminate the high collinearity in the dataset. Make sure to comment on your way so that the instructional team can learn about your thinking process which allows them to give feedback. At the end, print the heatmap again."
      ]
    },
    {
      "cell_type": "code",
      "source": [
        "websites.columns"
      ],
      "metadata": {
        "colab": {
          "base_uri": "https://localhost:8080/"
        },
        "id": "rsJL31v8eNw-",
        "outputId": "af2ae93f-0b64-4211-aea9-3ee4f383f238"
      },
      "execution_count": null,
      "outputs": [
        {
          "output_type": "execute_result",
          "data": {
            "text/plain": [
              "Index(['URL', 'URL_LENGTH', 'NUMBER_SPECIAL_CHARACTERS', 'CHARSET', 'SERVER',\n",
              "       'CONTENT_LENGTH', 'WHOIS_COUNTRY', 'WHOIS_STATEPRO', 'WHOIS_REGDATE',\n",
              "       'WHOIS_UPDATED_DATE', 'TCP_CONVERSATION_EXCHANGE',\n",
              "       'DIST_REMOTE_TCP_PORT', 'REMOTE_IPS', 'APP_BYTES', 'SOURCE_APP_PACKETS',\n",
              "       'REMOTE_APP_PACKETS', 'SOURCE_APP_BYTES', 'REMOTE_APP_BYTES',\n",
              "       'APP_PACKETS', 'DNS_QUERY_TIMES', 'Type'],\n",
              "      dtype='object')"
            ]
          },
          "metadata": {},
          "execution_count": 122
        }
      ]
    },
    {
      "cell_type": "code",
      "execution_count": null,
      "metadata": {
        "id": "1nMhMBlT9zmx"
      },
      "outputs": [],
      "source": [
        "# Your code here\n",
        "#websites[websites['APP_PACKETS'] != websites['SOURCE_APP_PACKETS']]\n",
        "\n",
        "websites.drop(['APP_PACKETS'], axis = True, inplace= True)\n",
        "websites.drop(['TCP_CONVERSATION_EXCHANGE'], axis= True, inplace= True)\n",
        "websites.drop(['APP_BYTES'], axis= True, inplace= True)\n",
        "\n",
        "# Create correlation matrix\n",
        "corr_matrix = websites.corr().abs()\n",
        "\n"
      ]
    },
    {
      "cell_type": "code",
      "execution_count": null,
      "metadata": {
        "id": "BiPuFCMI9zmx"
      },
      "outputs": [],
      "source": [
        "# Your comment here"
      ]
    },
    {
      "cell_type": "code",
      "execution_count": null,
      "metadata": {
        "id": "GcpqC0mG9zmy",
        "colab": {
          "base_uri": "https://localhost:8080/",
          "height": 507
        },
        "outputId": "1e4632c3-8ddf-4e9c-ccd6-28b31723cbd8"
      },
      "outputs": [
        {
          "output_type": "stream",
          "name": "stderr",
          "text": [
            "/usr/local/lib/python3.7/dist-packages/ipykernel_launcher.py:3: DeprecationWarning: `np.bool` is a deprecated alias for the builtin `bool`. To silence this warning, use `bool` by itself. Doing this will not modify any behavior and is safe. If you specifically wanted the numpy scalar type, use `np.bool_` here.\n",
            "Deprecated in NumPy 1.20; for more details and guidance: https://numpy.org/devdocs/release/1.20.0-notes.html#deprecations\n",
            "  This is separate from the ipykernel package so we can avoid doing imports until\n"
          ]
        },
        {
          "output_type": "execute_result",
          "data": {
            "text/plain": [
              "<matplotlib.axes._subplots.AxesSubplot at 0x7f3dbf2e0790>"
            ]
          },
          "metadata": {},
          "execution_count": 125
        },
        {
          "output_type": "display_data",
          "data": {
            "text/plain": [
              "<Figure size 432x288 with 2 Axes>"
            ],
            "image/png": "[encoded data removed]"
          },
          "metadata": {
            "needs_background": "light"
          }
        }
      ],
      "source": [
        "# Print heatmap again\n",
        "# Select upper triangle of correlation matrix\n",
        "upper = corr_matrix.where(np.triu(np.ones(corr_matrix.shape), k=1).astype(np.bool))\n",
        "upper\n",
        "\n",
        "sns.heatmap(upper)"
      ]
    },
    {
      "cell_type": "markdown",
      "metadata": {
        "id": "EVHcpGee9zmy"
      },
      "source": [
        "# Challenge 3 - Handle Missing Values\n",
        "\n",
        "The next step would be handling missing values. **We start by examining the number of missing values in each column, which you will do in the next cell.**"
      ]
    },
    {
      "cell_type": "code",
      "execution_count": null,
      "metadata": {
        "id": "4222hOGT9zmy",
        "colab": {
          "base_uri": "https://localhost:8080/"
        },
        "outputId": "a7356b44-09b5-4742-b565-2ee79d842328"
      },
      "outputs": [
        {
          "output_type": "execute_result",
          "data": {
            "text/plain": [
              "324.0      138\n",
              "1819.0      20\n",
              "2516.0      13\n",
              "162.0       12\n",
              "345.0       11\n",
              "          ... \n",
              "226.0        1\n",
              "217.0        1\n",
              "4695.0       1\n",
              "636.0        1\n",
              "24435.0      1\n",
              "Name: CONTENT_LENGTH, Length: 637, dtype: int64"
            ]
          },
          "metadata": {},
          "execution_count": 126
        }
      ],
      "source": [
        "# Your code here\n",
        "websites.isnull().sum()\n",
        "websites.CONTENT_LENGTH.value_counts()\n"
      ]
    },
    {
      "cell_type": "markdown",
      "metadata": {
        "id": "i6Rc8mj39zmz"
      },
      "source": [
        "If you remember in the previous labs, we drop a column if the column contains a high proportion of missing values. After dropping those problematic columns, we drop the rows with missing values.\n",
        "\n",
        "#### In the cells below, handle the missing values from the dataset. Remember to comment the rationale of your decisions."
      ]
    },
    {
      "cell_type": "code",
      "execution_count": null,
      "metadata": {
        "id": "49k2od_y9zmz"
      },
      "outputs": [],
      "source": [
        "# Your code here\n",
        "websites.drop(['CONTENT_LENGTH'], axis = 1, inplace = True)\n",
        "# More than 40% of the rows are null values, so it's better to drop. "
      ]
    },
    {
      "cell_type": "markdown",
      "metadata": {
        "id": "RwWmdodY9zmz"
      },
      "source": [
        "#### Again, examine the number of missing values in each column. \n",
        "\n",
        "If all cleaned, proceed. Otherwise, go back and do more cleaning."
      ]
    },
    {
      "cell_type": "code",
      "execution_count": null,
      "metadata": {
        "id": "zyz5bwi59zm0"
      },
      "outputs": [],
      "source": [
        "# Examine missing values in each column\n",
        "websites.dropna(inplace = True)\n",
        "# SERVER, DNS_QUERY_TIMES"
      ]
    },
    {
      "cell_type": "markdown",
      "metadata": {
        "id": "RzY8eRiX9zm0"
      },
      "source": [
        "# Challenge 4 - Handle `WHOIS_*` Categorical Data"
      ]
    },
    {
      "cell_type": "markdown",
      "metadata": {
        "id": "Iv6FARRU9zm0"
      },
      "source": [
        "There are several categorical columns we need to handle. These columns are:\n",
        "\n",
        "* `URL`\n",
        "* `CHARSET`\n",
        "* `SERVER`\n",
        "* `WHOIS_COUNTRY`\n",
        "* `WHOIS_STATEPRO`\n",
        "* `WHOIS_REGDATE`\n",
        "* `WHOIS_UPDATED_DATE`\n",
        "\n",
        "How to handle string columns is always case by case. Let's start by working on `WHOIS_COUNTRY`. Your steps are:\n",
        "\n",
        "1. List out the unique values of `WHOIS_COUNTRY`.\n",
        "1. Consolidate the country values with consistent country codes. For example, the following values refer to the same country and should use consistent country code:\n",
        "    * `CY` and `Cyprus`\n",
        "    * `US` and `us`\n",
        "    * `SE` and `se`\n",
        "    * `GB`, `United Kingdom`, and `[u'GB'; u'UK']`\n",
        "\n",
        "#### In the cells below, fix the country values as intructed above."
      ]
    },
    {
      "cell_type": "code",
      "execution_count": null,
      "metadata": {
        "id": "4Ikrcm_79zm0",
        "colab": {
          "base_uri": "https://localhost:8080/"
        },
        "outputId": "a7d177de-9812-4501-b4e6-9b1a0c95d27f"
      },
      "outputs": [
        {
          "output_type": "execute_result",
          "data": {
            "text/plain": [
              "US      1105\n",
              "None     306\n",
              "CA        83\n",
              "ES        63\n",
              "UK        35\n",
              "AU        35\n",
              "PA        21\n",
              "JP        11\n",
              "CN        10\n",
              "IN        10\n",
              "FR         9\n",
              "CZ         9\n",
              "NL         6\n",
              "CH         6\n",
              "RU         6\n",
              "KR         5\n",
              "AT         4\n",
              "SE         4\n",
              "BS         4\n",
              "PH         4\n",
              "BE         3\n",
              "HK         3\n",
              "TR         3\n",
              "DE         3\n",
              "KY         3\n",
              "SC         3\n",
              "UA         2\n",
              "CY         2\n",
              "UY         2\n",
              "KG         2\n",
              "BR         2\n",
              "NO         2\n",
              "IL         2\n",
              "SI         2\n",
              "LV         1\n",
              "PK         1\n",
              "IT         1\n",
              "LU         1\n",
              "BY         1\n",
              "AE         1\n",
              "IE         1\n",
              "UG         1\n",
              "TH         1\n",
              "Name: WHOIS_COUNTRY, dtype: int64"
            ]
          },
          "metadata": {},
          "execution_count": 129
        }
      ],
      "source": [
        "# Your code here\n",
        "websites.WHOIS_COUNTRY.value_counts()\n",
        "websites.loc[websites['WHOIS_COUNTRY'] == 'Cyprus', 'WHOIS_COUNTRY'] = 'CY'\n",
        "websites.loc[websites['WHOIS_COUNTRY'] == 'us', 'WHOIS_COUNTRY'] = 'US'\n",
        "websites.loc[websites['WHOIS_COUNTRY'] == 'se', 'WHOIS_COUNTRY'] = 'SE'\n",
        "websites.loc[websites['WHOIS_COUNTRY'] == 'United Kingdom', 'WHOIS_COUNTRY'] = 'UK'\n",
        "websites.loc[websites['WHOIS_COUNTRY'] == \"[u'GB'; u'UK']\", 'WHOIS_COUNTRY'] = 'UK'\n",
        "websites.loc[websites['WHOIS_COUNTRY'] == 'GB', 'WHOIS_COUNTRY'] = 'UK'\n",
        "websites.loc[websites['WHOIS_COUNTRY'] == 'ru', 'WHOIS_COUNTRY'] = 'RU'\n",
        "websites.WHOIS_COUNTRY.value_counts()\n"
      ]
    },
    {
      "cell_type": "markdown",
      "metadata": {
        "id": "HMQkOGvt9zm0"
      },
      "source": [
        "Since we have fixed the country values, can we convert this column to ordinal now?\n",
        "\n",
        "Not yet. If you reflect on the previous labs how we handle categorical columns, you probably remember we ended up dropping a lot of those columns because there are too many unique values. Too many unique values in a column is not desirable in machine learning because it makes prediction inaccurate. But there are workarounds under certain conditions. One of the fixable conditions is:\n",
        "\n",
        "#### If a limited number of values account for the majority of data, we can retain these top values and re-label all other rare values.\n",
        "\n",
        "The `WHOIS_COUNTRY` column happens to be this case. You can verify it by print a bar chart of the `value_counts` in the next cell to verify:"
      ]
    },
    {
      "cell_type": "code",
      "execution_count": null,
      "metadata": {
        "id": "w9RISYtg9zm1",
        "colab": {
          "base_uri": "https://localhost:8080/"
        },
        "outputId": "a66b64c2-09bc-436d-9591-5466d1f7c41f"
      },
      "outputs": [
        {
          "output_type": "execute_result",
          "data": {
            "text/plain": [
              "<matplotlib.axes._subplots.AxesSubplot at 0x7f3dbf22ed10>"
            ]
          },
          "metadata": {},
          "execution_count": 130
        },
        {
          "output_type": "display_data",
          "data": {
            "text/plain": [
              "<Figure size 720x864 with 1 Axes>"
            ],
            "image/png": "[encoded data removed]"
          },
          "metadata": {
            "needs_background": "light"
          }
        }
      ],
      "source": [
        "# Your code here\n",
        "import matplotlib.pyplot as plt\n",
        "import pandas as pd\n",
        "import seaborn as sns\n",
        "\n",
        "plt.figure(figsize=[10,12])\n",
        "websites['WHOIS_COUNTRY'].value_counts().plot(kind='bar')"
      ]
    },
    {
      "cell_type": "markdown",
      "metadata": {
        "id": "Bz60JPrA9zm1"
      },
      "source": [
        "#### After verifying, now let's keep the top 10 values of the column and re-label other columns with `OTHER`."
      ]
    },
    {
      "cell_type": "code",
      "execution_count": null,
      "metadata": {
        "scrolled": true,
        "id": "ZIWTyXJi9zm1"
      },
      "outputs": [],
      "source": [
        "# Your code here\n",
        "#!pip install feature-engine\n",
        "from feature_engine.encoding import RareLabelEncoder\n",
        "\n",
        "country_percent =websites.WHOIS_COUNTRY.value_counts()/websites.shape[0]\n",
        "country_percent\n",
        "\n",
        "top10 = RareLabelEncoder(tol=0.005621,n_categories=10, max_n_categories=9, variables=['WHOIS_COUNTRY'],replace_with='OTHER') # tol = The minimum frequency a label should have to be considered frequent. Categories with frequencies lower than tol will be grouped.\n",
        "top= top10.fit_transform(websites)\n",
        "top.WHOIS_COUNTRY.value_counts()\n",
        "\n",
        "websites['WHOIS_COUNTRY'] = top['WHOIS_COUNTRY']"
      ]
    },
    {
      "cell_type": "markdown",
      "metadata": {
        "id": "fyzZTW7-9zm1"
      },
      "source": [
        "Now since `WHOIS_COUNTRY` has been re-labelled, we don't need `WHOIS_STATEPRO` any more because the values of the states or provinces may not be relevant any more. We'll drop this column.\n",
        "\n",
        "In addition, we will also drop `WHOIS_REGDATE` and `WHOIS_UPDATED_DATE`. These are the registration and update dates of the website domains. Not of our concerns.\n",
        "\n",
        "#### In the next cell, drop `['WHOIS_STATEPRO', 'WHOIS_REGDATE', 'WHOIS_UPDATED_DATE']`."
      ]
    },
    {
      "cell_type": "code",
      "execution_count": null,
      "metadata": {
        "id": "NArsJ9B19zm1"
      },
      "outputs": [],
      "source": [
        "# Your code here\n",
        "websites.drop(['WHOIS_STATEPRO', 'WHOIS_REGDATE', 'WHOIS_UPDATED_DATE'], axis = 1, inplace = True)"
      ]
    },
    {
      "cell_type": "markdown",
      "metadata": {
        "id": "CAlRWq589zm1"
      },
      "source": [
        "# Challenge 5 - Handle Remaining Categorical Data & Convert to Ordinal\n",
        "\n",
        "Now print the `dtypes` of the data again. Besides `WHOIS_COUNTRY` which we already fixed, there should be 3 categorical columns left: `URL`, `CHARSET`, and `SERVER`."
      ]
    },
    {
      "cell_type": "code",
      "execution_count": null,
      "metadata": {
        "id": "FxM-HnvY9zm1",
        "colab": {
          "base_uri": "https://localhost:8080/"
        },
        "outputId": "28790aa6-9472-46d2-d705-2000446be166"
      },
      "outputs": [
        {
          "output_type": "execute_result",
          "data": {
            "text/plain": [
              "URL                           object\n",
              "URL_LENGTH                     int64\n",
              "NUMBER_SPECIAL_CHARACTERS      int64\n",
              "CHARSET                       object\n",
              "SERVER                        object\n",
              "WHOIS_COUNTRY                 object\n",
              "DIST_REMOTE_TCP_PORT           int64\n",
              "REMOTE_IPS                     int64\n",
              "SOURCE_APP_PACKETS             int64\n",
              "REMOTE_APP_PACKETS             int64\n",
              "SOURCE_APP_BYTES               int64\n",
              "REMOTE_APP_BYTES               int64\n",
              "DNS_QUERY_TIMES              float64\n",
              "Type                           int64\n",
              "dtype: object"
            ]
          },
          "metadata": {},
          "execution_count": 133
        }
      ],
      "source": [
        "# Your code here\n",
        "websites.dtypes"
      ]
    },
    {
      "cell_type": "markdown",
      "metadata": {
        "id": "sTvfKB8a9zm1"
      },
      "source": [
        "#### `URL` is easy. We'll simply drop it because it has too many unique values that there's no way for us to consolidate."
      ]
    },
    {
      "cell_type": "code",
      "execution_count": null,
      "metadata": {
        "id": "7rhDf22F9zm1"
      },
      "outputs": [],
      "source": [
        "# Your code here\n",
        "websites.drop(['URL'], axis = 1, inplace = True)"
      ]
    },
    {
      "cell_type": "markdown",
      "metadata": {
        "id": "_tS_iwQ_9zm1"
      },
      "source": [
        "#### Print the unique value counts of `CHARSET`. You see there are only a few unique values. So we can keep it as it is."
      ]
    },
    {
      "cell_type": "code",
      "execution_count": null,
      "metadata": {
        "id": "EcnSQfmQ9zm2",
        "colab": {
          "base_uri": "https://localhost:8080/"
        },
        "outputId": "00841f55-d839-492d-b8eb-bdb3f2447031"
      },
      "outputs": [
        {
          "output_type": "execute_result",
          "data": {
            "text/plain": [
              "UTF-8           674\n",
              "ISO-8859-1      427\n",
              "utf-8           379\n",
              "us-ascii        155\n",
              "iso-8859-1      134\n",
              "None              7\n",
              "windows-1251      1\n",
              "ISO-8859          1\n",
              "windows-1252      1\n",
              "Name: CHARSET, dtype: int64"
            ]
          },
          "metadata": {},
          "execution_count": 135
        }
      ],
      "source": [
        "# Your code here\n",
        "websites.CHARSET.value_counts()"
      ]
    },
    {
      "cell_type": "markdown",
      "metadata": {
        "id": "TUhX483k9zm2"
      },
      "source": [
        "`SERVER` is a little more complicated. Print its unique values and think about how you can consolidate those values.\n",
        "\n",
        "#### Before you think of your own solution, don't read the instructions that come next."
      ]
    },
    {
      "cell_type": "code",
      "execution_count": null,
      "metadata": {
        "id": "33UrPfNu9zm2",
        "colab": {
          "base_uri": "https://localhost:8080/"
        },
        "outputId": "5e730ab3-b119-486e-defe-d8287260a85f"
      },
      "outputs": [
        {
          "output_type": "execute_result",
          "data": {
            "text/plain": [
              "Apache                 642\n",
              "nginx                  435\n",
              "Microsoft              198\n",
              "None                   175\n",
              "Server                  49\n",
              "                      ... \n",
              "mw2103.codfw.wmnet       1\n",
              "barista/5.1.3            1\n",
              "mw2190.codfw.wmnet       1\n",
              "mw2107.codfw.wmnet       1\n",
              "IdeaWebServer/v0.80      1\n",
              "Name: SERVER, Length: 110, dtype: int64"
            ]
          },
          "metadata": {},
          "execution_count": 140
        }
      ],
      "source": [
        "# Your code here\n",
        "websites['SERVER'].value_counts()"
      ]
    },
    {
      "cell_type": "markdown",
      "metadata": {
        "id": "P7c6Z5dq9zm2"
      },
      "source": [
        "![Think Hard](../think-hard.jpg)"
      ]
    },
    {
      "cell_type": "code",
      "execution_count": null,
      "metadata": {
        "id": "T7s5sR_A9zm2"
      },
      "outputs": [],
      "source": [
        "# Your comment here\n",
        "# Take the server from the long rows, and group them by server name "
      ]
    },
    {
      "cell_type": "code",
      "source": [
        ""
      ],
      "metadata": {
        "id": "DdvwUeiaHR8I"
      },
      "execution_count": null,
      "outputs": []
    },
    {
      "cell_type": "markdown",
      "metadata": {
        "id": "Af8yMgs99zm2"
      },
      "source": [
        "Although there are so many unique values in the `SERVER` column, there are actually only 3 main server types: `Microsoft`, `Apache`, and `nginx`. Just check if each `SERVER` value contains any of those server types and re-label them. For `SERVER` values that don't contain any of those substrings, label with `Other`.\n",
        "\n",
        "At the end, your `SERVER` column should only contain 4 unique values: `Microsoft`, `Apache`, `nginx`, and `Other`."
      ]
    },
    {
      "cell_type": "code",
      "execution_count": null,
      "metadata": {
        "id": "sj07FXLk9zm2",
        "colab": {
          "base_uri": "https://localhost:8080/"
        },
        "outputId": "37241daf-fb6a-43a0-ab24-9de5e6e267da"
      },
      "outputs": [
        {
          "output_type": "execute_result",
          "data": {
            "text/plain": [
              "Apache                 0.360877\n",
              "nginx                  0.244519\n",
              "Microsoft              0.111298\n",
              "None                   0.098370\n",
              "Server                 0.027544\n",
              "                         ...   \n",
              "mw2103.codfw.wmnet     0.000562\n",
              "barista/5.1.3          0.000562\n",
              "mw2190.codfw.wmnet     0.000562\n",
              "mw2107.codfw.wmnet     0.000562\n",
              "IdeaWebServer/v0.80    0.000562\n",
              "Name: SERVER, Length: 110, dtype: float64"
            ]
          },
          "metadata": {},
          "execution_count": 138
        }
      ],
      "source": [
        "# Your code here\n",
        "websites.loc[websites['SERVER'].str.contains('Microsoft'), 'SERVER'] = 'Microsoft' # busca todas las observaciones que tengan 'microsoft', y los reemplaza por 'Microsoft\n",
        "websites.loc[websites['SERVER'].str.contains('Apache'), 'SERVER'] = 'Apache'\n",
        "websites.loc[websites['SERVER'].str.contains('nginx'), 'SERVER'] = 'nginx'\n",
        "\n",
        "websites.SERVER.value_counts()/websites.shape[0]\n",
        "\n"
      ]
    },
    {
      "cell_type": "code",
      "execution_count": null,
      "metadata": {
        "scrolled": false,
        "id": "Q4UD0Gw69zm2"
      },
      "outputs": [],
      "source": [
        "# Count `SERVER` value counts here\n",
        "top4 = RareLabelEncoder(tol=0.11,n_categories=4, max_n_categories=3, variables=['SERVER'],replace_with='OTHER') # tol = The minimum frequency a label should have to be considered frequent. Categories with frequencies lower than tol will be grouped.\n",
        "top= top4.fit_transform(websites)\n",
        "top.SERVER.value_counts()\n",
        "websites['SERVER'] = top['SERVER']"
      ]
    },
    {
      "cell_type": "markdown",
      "metadata": {
        "id": "sAVkMHjs9zm2"
      },
      "source": [
        "OK, all our categorical data are fixed now. **Let's convert them to ordinal data using Pandas' `get_dummies` function ([documentation](https://pandas.pydata.org/pandas-docs/stable/generated/pandas.get_dummies.html)).** Make sure you drop the categorical columns by passing `drop_first=True` to `get_dummies` as we don't need them any more. **Also, assign the data with dummy values to a new variable `website_dummy`.**"
      ]
    },
    {
      "cell_type": "code",
      "execution_count": null,
      "metadata": {
        "id": "mga4diAq9zm2",
        "colab": {
          "base_uri": "https://localhost:8080/"
        },
        "outputId": "b1678af4-06dd-4147-8fe8-0f5377acdc55"
      },
      "outputs": [
        {
          "output_type": "stream",
          "name": "stdout",
          "text": [
            "<class 'pandas.core.frame.DataFrame'>\n",
            "Int64Index: 1779 entries, 0 to 1780\n",
            "Data columns (total 13 columns):\n",
            " #   Column                     Non-Null Count  Dtype  \n",
            "---  ------                     --------------  -----  \n",
            " 0   URL_LENGTH                 1779 non-null   int64  \n",
            " 1   NUMBER_SPECIAL_CHARACTERS  1779 non-null   int64  \n",
            " 2   CHARSET                    1779 non-null   object \n",
            " 3   SERVER                     1779 non-null   object \n",
            " 4   WHOIS_COUNTRY              1779 non-null   object \n",
            " 5   DIST_REMOTE_TCP_PORT       1779 non-null   int64  \n",
            " 6   REMOTE_IPS                 1779 non-null   int64  \n",
            " 7   SOURCE_APP_PACKETS         1779 non-null   int64  \n",
            " 8   REMOTE_APP_PACKETS         1779 non-null   int64  \n",
            " 9   SOURCE_APP_BYTES           1779 non-null   int64  \n",
            " 10  REMOTE_APP_BYTES           1779 non-null   int64  \n",
            " 11  DNS_QUERY_TIMES            1779 non-null   float64\n",
            " 12  Type                       1779 non-null   int64  \n",
            "dtypes: float64(1), int64(9), object(3)\n",
            "memory usage: 194.6+ KB\n"
          ]
        }
      ],
      "source": [
        "# Your code here\n",
        "websites.info()\n",
        "website_dummy = pd.get_dummies(websites)\n"
      ]
    },
    {
      "cell_type": "markdown",
      "metadata": {
        "id": "oF62iVO19zm3"
      },
      "source": [
        "Now, inspect `website_dummy` to make sure the data and types are intended - there shouldn't be any categorical columns at this point."
      ]
    },
    {
      "cell_type": "code",
      "execution_count": null,
      "metadata": {
        "id": "G8n3NjUB9zm3",
        "colab": {
          "base_uri": "https://localhost:8080/"
        },
        "outputId": "a52a1143-f62e-4ca3-deda-eaac9d790085"
      },
      "outputs": [
        {
          "output_type": "stream",
          "name": "stdout",
          "text": [
            "<class 'pandas.core.frame.DataFrame'>\n",
            "Int64Index: 1779 entries, 0 to 1780\n",
            "Data columns (total 33 columns):\n",
            " #   Column                     Non-Null Count  Dtype  \n",
            "---  ------                     --------------  -----  \n",
            " 0   URL_LENGTH                 1779 non-null   int64  \n",
            " 1   NUMBER_SPECIAL_CHARACTERS  1779 non-null   int64  \n",
            " 2   DIST_REMOTE_TCP_PORT       1779 non-null   int64  \n",
            " 3   REMOTE_IPS                 1779 non-null   int64  \n",
            " 4   SOURCE_APP_PACKETS         1779 non-null   int64  \n",
            " 5   REMOTE_APP_PACKETS         1779 non-null   int64  \n",
            " 6   SOURCE_APP_BYTES           1779 non-null   int64  \n",
            " 7   REMOTE_APP_BYTES           1779 non-null   int64  \n",
            " 8   DNS_QUERY_TIMES            1779 non-null   float64\n",
            " 9   Type                       1779 non-null   int64  \n",
            " 10  CHARSET_ISO-8859           1779 non-null   uint8  \n",
            " 11  CHARSET_ISO-8859-1         1779 non-null   uint8  \n",
            " 12  CHARSET_None               1779 non-null   uint8  \n",
            " 13  CHARSET_UTF-8              1779 non-null   uint8  \n",
            " 14  CHARSET_iso-8859-1         1779 non-null   uint8  \n",
            " 15  CHARSET_us-ascii           1779 non-null   uint8  \n",
            " 16  CHARSET_utf-8              1779 non-null   uint8  \n",
            " 17  CHARSET_windows-1251       1779 non-null   uint8  \n",
            " 18  CHARSET_windows-1252       1779 non-null   uint8  \n",
            " 19  SERVER_Apache              1779 non-null   uint8  \n",
            " 20  SERVER_Microsoft           1779 non-null   uint8  \n",
            " 21  SERVER_OTHER               1779 non-null   uint8  \n",
            " 22  SERVER_nginx               1779 non-null   uint8  \n",
            " 23  WHOIS_COUNTRY_AU           1779 non-null   uint8  \n",
            " 24  WHOIS_COUNTRY_CA           1779 non-null   uint8  \n",
            " 25  WHOIS_COUNTRY_CN           1779 non-null   uint8  \n",
            " 26  WHOIS_COUNTRY_ES           1779 non-null   uint8  \n",
            " 27  WHOIS_COUNTRY_JP           1779 non-null   uint8  \n",
            " 28  WHOIS_COUNTRY_None         1779 non-null   uint8  \n",
            " 29  WHOIS_COUNTRY_OTHER        1779 non-null   uint8  \n",
            " 30  WHOIS_COUNTRY_PA           1779 non-null   uint8  \n",
            " 31  WHOIS_COUNTRY_UK           1779 non-null   uint8  \n",
            " 32  WHOIS_COUNTRY_US           1779 non-null   uint8  \n",
            "dtypes: float64(1), int64(9), uint8(23)\n",
            "memory usage: 192.8 KB\n"
          ]
        }
      ],
      "source": [
        "# Your code here\n",
        "website_dummy.info()"
      ]
    },
    {
      "cell_type": "markdown",
      "metadata": {
        "id": "J0HjtaAt9zm3"
      },
      "source": [
        "# Challenge 6 - Modeling, Prediction, and Evaluation\n",
        "\n",
        "We'll start off this section by splitting the data to train and test. **Name your 4 variables `X_train`, `X_test`, `y_train`, and `y_test`. Select 80% of the data for training and 20% for testing.**"
      ]
    },
    {
      "cell_type": "code",
      "execution_count": null,
      "metadata": {
        "id": "C94V5g4L9zm3"
      },
      "outputs": [],
      "source": [
        "from sklearn.model_selection import train_test_split\n",
        "\n",
        "# Your code here:\n",
        "X = website_dummy.drop(['Type'], axis = 1)\n",
        "y = website_dummy.Type\n",
        "\n",
        "X_train, X_test, y_train, y_test = train_test_split(X, y, test_size = 0.2, random_state= 42)"
      ]
    },
    {
      "cell_type": "markdown",
      "metadata": {
        "id": "0b4KKfYz9zm3"
      },
      "source": [
        "#### In this lab, we will try two different models and compare our results.\n",
        "\n",
        "The first model we will use in this lab is logistic regression. We have previously learned about logistic regression as a classification algorithm. In the cell below, load `LogisticRegression` from scikit-learn and initialize the model."
      ]
    },
    {
      "cell_type": "code",
      "execution_count": null,
      "metadata": {
        "id": "o7KVe4Rc9zm3"
      },
      "outputs": [],
      "source": [
        "# Your code here:\n",
        "from sklearn.linear_model import LogisticRegression\n",
        "\n",
        "model = LogisticRegression()\n"
      ]
    },
    {
      "cell_type": "markdown",
      "metadata": {
        "id": "zTkNpPVy9zm3"
      },
      "source": [
        "Next, fit the model to our training data. We have already separated our data into 4 parts. Use those in your model."
      ]
    },
    {
      "cell_type": "code",
      "execution_count": null,
      "metadata": {
        "id": "W2eLF9Xu9zm3",
        "colab": {
          "base_uri": "https://localhost:8080/"
        },
        "outputId": "6ff3a363-bbae-43dc-dc96-22afd5f3bf3e"
      },
      "outputs": [
        {
          "output_type": "stream",
          "name": "stderr",
          "text": [
            "/usr/local/lib/python3.7/dist-packages/sklearn/linear_model/_logistic.py:818: ConvergenceWarning: lbfgs failed to converge (status=1):\n",
            "STOP: TOTAL NO. of ITERATIONS REACHED LIMIT.\n",
            "\n",
            "Increase the number of iterations (max_iter) or scale the data as shown in:\n",
            "    https://scikit-learn.org/stable/modules/preprocessing.html\n",
            "Please also refer to the documentation for alternative solver options:\n",
            "    https://scikit-learn.org/stable/modules/linear_model.html#logistic-regression\n",
            "  extra_warning_msg=_LOGISTIC_SOLVER_CONVERGENCE_MSG,\n"
          ]
        },
        {
          "output_type": "execute_result",
          "data": {
            "text/plain": [
              "LogisticRegression()"
            ]
          },
          "metadata": {},
          "execution_count": 162
        }
      ],
      "source": [
        "# Your code here:\n",
        "model.fit(X_train, y_train)"
      ]
    },
    {
      "cell_type": "markdown",
      "metadata": {
        "id": "28ScaRiL9zm3"
      },
      "source": [
        "finally, import `confusion_matrix` and `accuracy_score` from `sklearn.metrics` and fit our testing data. Assign the fitted data to `y_pred` and print the confusion matrix as well as the accuracy score"
      ]
    },
    {
      "cell_type": "code",
      "execution_count": null,
      "metadata": {
        "id": "TT6fCjm39zm3",
        "colab": {
          "base_uri": "https://localhost:8080/",
          "height": 352
        },
        "outputId": "8e8f5d6d-1858-41c7-cd4c-f2a871d79164"
      },
      "outputs": [
        {
          "output_type": "stream",
          "name": "stderr",
          "text": [
            "/usr/local/lib/python3.7/dist-packages/sklearn/utils/deprecation.py:87: FutureWarning: Function plot_confusion_matrix is deprecated; Function `plot_confusion_matrix` is deprecated in 1.0 and will be removed in 1.2. Use one of the class methods: ConfusionMatrixDisplay.from_predictions or ConfusionMatrixDisplay.from_estimator.\n",
            "  warnings.warn(msg, category=FutureWarning)\n"
          ]
        },
        {
          "output_type": "execute_result",
          "data": {
            "text/plain": [
              "0.901685393258427"
            ]
          },
          "metadata": {},
          "execution_count": 168
        },
        {
          "output_type": "display_data",
          "data": {
            "text/plain": [
              "<Figure size 432x288 with 2 Axes>"
            ],
            "image/png": "[encoded data removed]"
          },
          "metadata": {
            "needs_background": "light"
          }
        }
      ],
      "source": [
        "# Your code here:\n",
        "from sklearn.metrics import  accuracy_score, plot_confusion_matrix\n",
        "\n",
        "y_pred = model.predict(X_test)\n",
        "\n",
        "plot_confusion_matrix(model, X_test, y_test)\n",
        "\n",
        "accuracy_score(y_test, y_pred)"
      ]
    },
    {
      "cell_type": "markdown",
      "metadata": {
        "id": "3LbzZNmR9zm3"
      },
      "source": [
        "What are your thoughts on the performance of the model? Write your conclusions below."
      ]
    },
    {
      "cell_type": "code",
      "execution_count": null,
      "metadata": {
        "id": "tqTKl0Uh9zm3"
      },
      "outputs": [],
      "source": [
        "# Your conclusions here:\n",
        "# The model performs well, with an accuracy of 0.90"
      ]
    },
    {
      "cell_type": "markdown",
      "metadata": {
        "id": "XjQ1yJCl9zm4"
      },
      "source": [
        "#### Our second algorithm is is K-Nearest Neighbors. \n",
        "\n",
        "Though is it not required, we will fit a model using the training data and then test the performance of the model using the testing data. Start by loading `KNeighborsClassifier` from scikit-learn and then initializing and fitting the model. We'll start off with a model where k=3."
      ]
    },
    {
      "cell_type": "code",
      "execution_count": null,
      "metadata": {
        "id": "T8rOl9Qr9zm4",
        "colab": {
          "base_uri": "https://localhost:8080/"
        },
        "outputId": "3414428f-f441-45ba-a48d-3188b2496a56"
      },
      "outputs": [
        {
          "output_type": "execute_result",
          "data": {
            "text/plain": [
              "KNeighborsClassifier(n_neighbors=3)"
            ]
          },
          "metadata": {},
          "execution_count": 174
        }
      ],
      "source": [
        "# Your code here:\n",
        "from sklearn.neighbors import KNeighborsClassifier\n",
        "\n",
        "model_2 = KNeighborsClassifier(n_neighbors=3)\n",
        "model_2.fit(X_train, y_train)"
      ]
    },
    {
      "cell_type": "markdown",
      "metadata": {
        "id": "8YP9ASgd9zm4"
      },
      "source": [
        "To test your model, compute the predicted values for the testing sample and print the confusion matrix as well as the accuracy score."
      ]
    },
    {
      "cell_type": "code",
      "execution_count": null,
      "metadata": {
        "id": "DFWZe1Ra9zm4",
        "colab": {
          "base_uri": "https://localhost:8080/",
          "height": 353
        },
        "outputId": "5dfae2de-8d73-4e8e-c898-4be48abe0c16"
      },
      "outputs": [
        {
          "output_type": "stream",
          "name": "stderr",
          "text": [
            "/usr/local/lib/python3.7/dist-packages/sklearn/utils/deprecation.py:87: FutureWarning: Function plot_confusion_matrix is deprecated; Function `plot_confusion_matrix` is deprecated in 1.0 and will be removed in 1.2. Use one of the class methods: ConfusionMatrixDisplay.from_predictions or ConfusionMatrixDisplay.from_estimator.\n",
            "  warnings.warn(msg, category=FutureWarning)\n"
          ]
        },
        {
          "output_type": "execute_result",
          "data": {
            "text/plain": [
              "0.9213483146067416"
            ]
          },
          "metadata": {},
          "execution_count": 177
        },
        {
          "output_type": "display_data",
          "data": {
            "text/plain": [
              "<Figure size 432x288 with 2 Axes>"
            ],
            "image/png": "[encoded data removed]"
          },
          "metadata": {
            "needs_background": "light"
          }
        }
      ],
      "source": [
        "# Your code here:\n",
        "\n",
        "y_pred2 = model_2.predict(X_test) \n",
        "\n",
        "plot_confusion_matrix(model_2, X_test, y_test)\n",
        "\n",
        "accuracy_score(y_test, y_pred2)\n"
      ]
    },
    {
      "cell_type": "markdown",
      "metadata": {
        "id": "cF9xvbre9zm4"
      },
      "source": [
        "#### We'll create another K-Nearest Neighbors model with k=5. \n",
        "\n",
        "Initialize and fit the model below and print the confusion matrix and the accuracy score."
      ]
    },
    {
      "cell_type": "code",
      "execution_count": null,
      "metadata": {
        "id": "XrPguwrF9zm4",
        "colab": {
          "base_uri": "https://localhost:8080/",
          "height": 354
        },
        "outputId": "827d1d6e-9a24-4ff9-f26b-7b4d576a7a2f"
      },
      "outputs": [
        {
          "output_type": "stream",
          "name": "stderr",
          "text": [
            "/usr/local/lib/python3.7/dist-packages/sklearn/utils/deprecation.py:87: FutureWarning: Function plot_confusion_matrix is deprecated; Function `plot_confusion_matrix` is deprecated in 1.0 and will be removed in 1.2. Use one of the class methods: ConfusionMatrixDisplay.from_predictions or ConfusionMatrixDisplay.from_estimator.\n",
            "  warnings.warn(msg, category=FutureWarning)\n"
          ]
        },
        {
          "output_type": "execute_result",
          "data": {
            "text/plain": [
              "0.9185393258426966"
            ]
          },
          "metadata": {},
          "execution_count": 180
        },
        {
          "output_type": "display_data",
          "data": {
            "text/plain": [
              "<Figure size 432x288 with 2 Axes>"
            ],
            "image/png": "[encoded data removed]"
          },
          "metadata": {
            "needs_background": "light"
          }
        }
      ],
      "source": [
        "# Your code here:\n",
        "model_3 = KNeighborsClassifier(n_neighbors=5)\n",
        "model_3.fit(X_train, y_train)\n",
        "\n",
        "\n",
        "y_pred3 = model_3.predict(X_test) \n",
        "\n",
        "plot_confusion_matrix(model_3, X_test, y_test)\n",
        "\n",
        "accuracy_score(y_test, y_pred3)"
      ]
    },
    {
      "cell_type": "markdown",
      "metadata": {
        "id": "k1rsAF2L9zm4"
      },
      "source": [
        "Did you see an improvement in the confusion matrix when increasing k to 5? Did you see an improvement in the accuracy score? Write your conclusions below."
      ]
    },
    {
      "cell_type": "code",
      "execution_count": null,
      "metadata": {
        "id": "kQbDF7iD9zm4"
      },
      "outputs": [],
      "source": [
        "# Your conclusions here:\n",
        "# No, it was better to use 3 neighboards. \n"
      ]
    },
    {
      "cell_type": "markdown",
      "metadata": {
        "id": "ZW5odR8q9zm4"
      },
      "source": [
        "# Bonus Challenge - Feature Scaling\n",
        "\n",
        "Problem-solving in machine learning is iterative. You can improve your model prediction with various techniques (there is a sweetspot for the time you spend and the improvement you receive though). Now you've completed only one iteration of ML analysis. There are more iterations you can conduct to make improvements. In order to be able to do that, you will need deeper knowledge in statistics and master more data analysis techniques. In this bootcamp, we don't have time to achieve that advanced goal. But you will make constant efforts after the bootcamp to eventually get there.\n",
        "\n",
        "However, now we do want you to learn one of the advanced techniques which is called *feature scaling*. The idea of feature scaling is to standardize/normalize the range of independent variables or features of the data. This can make the outliers more apparent so that you can remove them. This step needs to happen during Challenge 6 after you split the training and test data because you don't want to split the data again which makes it impossible to compare your results with and without feature scaling. For general concepts about feature scaling, click [here](https://en.wikipedia.org/wiki/Feature_scaling). To read deeper, click [here](https://medium.com/greyatom/why-how-and-when-to-scale-your-features-4b30ab09db5e).\n",
        "\n",
        "In the next cell, attempt to improve your model prediction accuracy by means of feature scaling. A library you can utilize is `sklearn.preprocessing.RobustScaler` ([documentation](https://scikit-learn.org/stable/modules/generated/sklearn.preprocessing.RobustScaler.html)). You'll use the `RobustScaler` to fit and transform your `X_train`, then transform `X_test`. You will use logistic regression to fit and predict your transformed data and obtain the accuracy score in the same way. Compare the accuracy score with your normalized data with the previous accuracy data. Is there an improvement?"
      ]
    },
    {
      "cell_type": "code",
      "execution_count": null,
      "metadata": {
        "id": "ySgkBs309zm4"
      },
      "outputs": [],
      "source": [
        "# Your code here"
      ]
    }
  ],
  "metadata": {
    "kernelspec": {
      "display_name": "Python 3",
      "language": "python",
      "name": "python3"
    },
    "language_info": {
      "codemirror_mode": {
        "name": "ipython",
        "version": 3
      },
      "file_extension": ".py",
      "mimetype": "text/x-python",
      "name": "python",
      "nbconvert_exporter": "python",
      "pygments_lexer": "ipython3",
      "version": "3.6.6"
    },
    "colab": {
      "name": "main.ipynb",
      "provenance": [],
      "collapsed_sections": [
        "i6Rc8mj39zmz",
        "RwWmdodY9zmz",
        "Iv6FARRU9zm0",
        "HMQkOGvt9zm0",
        "Bz60JPrA9zm1",
        "fyzZTW7-9zm1",
        "sTvfKB8a9zm1",
        "_tS_iwQ_9zm1"
      ]
    }
  },
  "nbformat": 4,
  "nbformat_minor": 0
}